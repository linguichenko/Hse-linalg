{
  "cells": [
    {
      "cell_type": "markdown",
      "id": "8cdfc76b",
      "metadata": {
        "id": "8cdfc76b"
      },
      "source": [
        "# Лабораторная работа 2, ПМИ 2023/24, I курс, М+, дискретная математика.\n",
        "Это ноутбук с задачами, которые будут проверяться вручную. При решении задач можно использовать всю стандартную библиотеку Python, а также NetworkX, Matplotlib, numpy и их зависимости. Использование любых других сторонних библиотек запрещено.\n",
        "\n",
        "При решении ноутбука вам потребуется писать доказательства. Убедительная просьба аккуратно оформлять математические выкладки:\n",
        "- всё, что не является кодом, в ноутбуке должно быть в Markdown ячейках\n",
        "- в Markdown можно писать $\\LaTeX$-овские математические формулы:\n",
        "  - однострочные: `$f(x_1, \\dots, x_n) = \\bigwedge_{i=1}^n x_i$`: $f(x_1, \\dots, x_n) = \\bigwedge_{i=1}^n x_i$\n",
        "  - многострочные: `$$f(x_1, \\dots, x_n) = \\bigwedge_{i=1}^n x_i$$`: $$f(x_1, \\dots, x_n) = \\bigwedge_{i=1}^n x_i$$\n",
        "  - упоминание любых математических объектов так же желательно писать в `$...$`, даже если их названия однобуквенные, например:\n",
        "\n",
        "> Функция $f$ непрерывна по переменной $x$ на множестве $A \\subseteq \\mathbb{R}^2$...\n",
        "  \n",
        "Пожалуйста, используйте эти возможности Jupyter Notebook. В этой работе не будет громоздких выкладок, поэтому их оформление не должно вызвать затруднений.\n",
        "  \n",
        "Удачи!"
      ]
    },
    {
      "cell_type": "markdown",
      "id": "316a8429",
      "metadata": {
        "id": "316a8429"
      },
      "source": [
        "# Задание 1. Случайные раскраски графов (1.5 балла)\n",
        "Вас уже давно мучает мысль, что ваш город — серый и унылый. Но сегодня пришло время это исправить! Вооружившись балончикоми с красками, вы выходите из дома и полны решимости расцветить город.  "
      ]
    },
    {
      "cell_type": "markdown",
      "id": "90987fc7",
      "metadata": {
        "id": "90987fc7"
      },
      "source": [
        "Город в котором вы живете — это простой неориентированный граф. Вы законопослушный гражданин, поэтому хотите, чтобы раскраска была как можно более _правильной_. Напомним, что раскраска вершин графа называется _правильной_, если никакие две одноцветные вершины не являются смежными.\n",
        "\n",
        "В вашем распоряжении $n$ красок. Каждая вершина графа раскрашивается равновероятно в один из цветов.\n",
        "\n",
        "_Задание_. Напишите функцию `random_coloring_impropriety`, которая генерирует случайную вершинную раскраску графа на $n$ цветах и возвращает _неправильность_ раскраски — количество ребер графа, у которых инцидентные им вершины раскрашены в одинковый цвет. Из опредедения следует, что раскраска правильная, если её неправильность равна нулю.\n",
        "\n",
        "_Замечание_: обычно неправильностью раскраски называют другую величину, а именно максимум из неправильностей вершин. Неправильностью вершины называют число смежных с ней вершин того же цвета. Несложно понять, что в нашем определении неправильность — это полусумма неправильностей вершин."
      ]
    },
    {
      "cell_type": "code",
      "execution_count": null,
      "id": "d4627e39",
      "metadata": {
        "scrolled": true,
        "id": "d4627e39"
      },
      "outputs": [],
      "source": [
        "import networkx as nx\n",
        "import matplotlib.pyplot as plt\n",
        "from random import randint\n",
        "from functools import cache #спрашивали, вы разрешили"
      ]
    },
    {
      "cell_type": "code",
      "execution_count": null,
      "id": "088eb9e6",
      "metadata": {
        "colab": {
          "base_uri": "https://localhost:8080/",
          "height": 211
        },
        "id": "088eb9e6",
        "outputId": "04ec8a6b-344c-4a76-a439-b1665f46538c"
      },
      "outputs": [
        {
          "output_type": "error",
          "ename": "NameError",
          "evalue": "name 'nx' is not defined",
          "traceback": [
            "\u001b[0;31m---------------------------------------------------------------------------\u001b[0m",
            "\u001b[0;31mNameError\u001b[0m                                 Traceback (most recent call last)",
            "\u001b[0;32m<ipython-input-1-3d12ff4e0219>\u001b[0m in \u001b[0;36m<cell line: 1>\u001b[0;34m()\u001b[0m\n\u001b[0;32m----> 1\u001b[0;31m \u001b[0;32mdef\u001b[0m \u001b[0mrandom_coloring_impropriety\u001b[0m\u001b[0;34m(\u001b[0m\u001b[0mG\u001b[0m\u001b[0;34m:\u001b[0m \u001b[0mnx\u001b[0m\u001b[0;34m.\u001b[0m\u001b[0mGraph\u001b[0m\u001b[0;34m,\u001b[0m \u001b[0mn\u001b[0m\u001b[0;34m:\u001b[0m \u001b[0mint\u001b[0m\u001b[0;34m)\u001b[0m \u001b[0;34m->\u001b[0m \u001b[0mint\u001b[0m\u001b[0;34m:\u001b[0m\u001b[0;34m\u001b[0m\u001b[0;34m\u001b[0m\u001b[0m\n\u001b[0m\u001b[1;32m      2\u001b[0m     \u001b[0mcolors\u001b[0m \u001b[0;34m=\u001b[0m \u001b[0;34m[\u001b[0m\u001b[0;36m0\u001b[0m\u001b[0;34m]\u001b[0m \u001b[0;34m*\u001b[0m \u001b[0mlen\u001b[0m\u001b[0;34m(\u001b[0m\u001b[0mG\u001b[0m\u001b[0;34m.\u001b[0m\u001b[0mnodes\u001b[0m\u001b[0;34m)\u001b[0m\u001b[0;34m\u001b[0m\u001b[0;34m\u001b[0m\u001b[0m\n\u001b[1;32m      3\u001b[0m     \u001b[0mimpropriety\u001b[0m \u001b[0;34m=\u001b[0m \u001b[0;36m0\u001b[0m\u001b[0;34m\u001b[0m\u001b[0;34m\u001b[0m\u001b[0m\n\u001b[1;32m      4\u001b[0m     \u001b[0;32mfor\u001b[0m \u001b[0mnode\u001b[0m \u001b[0;32min\u001b[0m \u001b[0mG\u001b[0m\u001b[0;34m.\u001b[0m\u001b[0mnodes\u001b[0m\u001b[0;34m(\u001b[0m\u001b[0;34m)\u001b[0m\u001b[0;34m:\u001b[0m\u001b[0;34m\u001b[0m\u001b[0;34m\u001b[0m\u001b[0m\n\u001b[1;32m      5\u001b[0m         \u001b[0mcolors\u001b[0m\u001b[0;34m[\u001b[0m\u001b[0mnode\u001b[0m\u001b[0;34m]\u001b[0m \u001b[0;34m=\u001b[0m \u001b[0mrandint\u001b[0m\u001b[0;34m(\u001b[0m\u001b[0;36m0\u001b[0m\u001b[0;34m,\u001b[0m \u001b[0mn\u001b[0m\u001b[0;34m)\u001b[0m\u001b[0;34m\u001b[0m\u001b[0;34m\u001b[0m\u001b[0m\n",
            "\u001b[0;31mNameError\u001b[0m: name 'nx' is not defined"
          ]
        }
      ],
      "source": [
        "def random_coloring_impropriety(G: nx.Graph, n: int) -> int:\n",
        "    colors = [0] * len(G.nodes)\n",
        "    impropriety = 0\n",
        "    for node in G.nodes():\n",
        "        colors[node] = randint(0, n)\n",
        "    for edge in G.edges():\n",
        "        if colors[edge[0]] == colors[edge[1]]:\n",
        "            impropriety += 1\n",
        "    return impropriety"
      ]
    },
    {
      "cell_type": "markdown",
      "id": "ee0ed136",
      "metadata": {
        "id": "ee0ed136"
      },
      "source": [
        "Теперь возьмите какой-нибудь граф $G$ (можно, например, сгенерировать граф с помощью какого-нибудь из [генераторов](https://networkx.org/documentation/stable/reference/generators.html), доступных в Networkx) и с помощью _метода Монте-Карло_ найдите распределение неправильности раскраски. Для этого многократно ($A$ раз) вызовите функцию `random_coloring_impropriety` и примите вероятность значения $x$ равной $\\frac{A_x}{A}$, где $A_x$ — это то, сколько раз среди $A$ запусков функция вернула значение $x$. Визуализируйте полученное распределение с помощью Matplotlib."
      ]
    },
    {
      "cell_type": "code",
      "execution_count": null,
      "id": "0ddea869",
      "metadata": {
        "scrolled": false,
        "id": "0ddea869"
      },
      "outputs": [],
      "source": [
        "# your code goes here\n",
        "G = nx.lollipop_graph(7, 5)\n",
        "A = 500\n",
        "n = 8\n",
        "impropriety_values = []\n",
        "for i in range(A):\n",
        "    impropriety_values.append(random_coloring_impropriety(G, n))\n",
        "impropriety_probabilities = [impropriety_values.count(x) / A for x in set(impropriety_values)]\n",
        "plt.bar(list(set(impropriety_values)), impropriety_probabilities)\n",
        "plt.xlabel('Неправильность раскраски')\n",
        "plt.ylabel('Вероятность')\n",
        "plt.title('Распределение неправильности раскраски графа')\n",
        "plt.show()"
      ]
    },
    {
      "cell_type": "markdown",
      "id": "db3b35a8",
      "metadata": {
        "id": "db3b35a8"
      },
      "source": [
        "_Задача_: пусть $G$ — дерево на $m$ вершинах, а количество цветов равно $2$. Найдите распределение неправильности в этом случае, т.е. для каждого возможного значения неправильности найдите вероятность достижения этого значения."
      ]
    },
    {
      "cell_type": "markdown",
      "id": "40932bdd",
      "metadata": {
        "id": "40932bdd"
      },
      "source": [
        "_Решение_: Заметим, что всего возможных раскрасок графа существует $2 ^ n$. Возьмем $k$ -- количество одноцветных ребер (то есть ребер с концами одного цвета), и найдем число раскрасок, в которых ровно $k$ одноцветных ребер. Тогда отношение этого числа к $2^n$ и будет вероятностью, так как при количестве запусков, стремящемся к бесконечности, все раскраски равновероятны.\n",
        "Выберем в нашем графе $k$ ребер, которые будут одноцветными. Тогда каждому такому выбору будет соответствовать ровно две раскраски. Действительно, начнем с какой-нибудь вершины. Пусть она черная. Посмотрим на все выходящие из неё рёбра. Если ребро одноцветное, то вершинка, которая соседняя через это ребро, того же цвета, иначе другого. И так красим весь граф. Почему не возникнет противоречий? Ну пусть у вершинки два её ребра говорят, что надо красить по-разному. Значит, мы к этой вершинке от начальной вершины смогли дайти двумя разными путями (через эти рёбра). Значит, есть цикл, а это противоречие, так как у нас дерево. Начальную вершинку мы могли покрасить двумя способами, значит, раскрасок с ровно $k$ одноцветными рёбрами $2C_{n-1}^{k}$. Таким образом, вероятность достижения значения $k$ равна $\\frac{2C_{n-1}^{k}}{2^n} = \\frac{C_{n-1}^{k}}{2^{n - 1}}$. Заметим, что тогда сумма вероятностей действительно равна единице, это радует (^‿^)\n"
      ]
    },
    {
      "cell_type": "markdown",
      "id": "9e235916",
      "metadata": {
        "id": "9e235916"
      },
      "source": [
        "# Задание 2. Отношения (1.5 балла)\n",
        "Нет, всё куда более прозаично. Хотя, возможно, не менее сложно.\n",
        "\n",
        "Даны три конечных множества $K, M, N$ и бинарные отношения $A \\subseteq K \\times N$ и $B \\subseteq K \\times M$ на них. Требуется решить уравнение $A = X \\circ B$, т.е. либо найти такое отношение $X \\subseteq M \\times N$, что $A = X \\circ B$, либо проверить, что такого отношения нет.\n",
        "\n",
        "_Задание_: реализуйте функцию `solve_binary_relation_equation`, которая принимает матрицы  $A \\in M_{|K| \\times |N|}(\\mathbb{B})$ и $B \\in M_{|K| \\times |M|}(\\mathbb{B})$, где $\\mathbb{B} = \\{ \\texttt{False}, \\texttt{True} \\}$, задающие отношения $A$ и $B$ соответственно ($x A y$, если `A[x][y] == 1`). Функция должна вернуть матрицу $X \\in M_{|M| \\times |N|}(\\mathbb{B})$, задающее отношение $X$, либо `None`, если решения не существует. Если решений несколько, можно вернуть любое."
      ]
    },
    {
      "cell_type": "code",
      "execution_count": null,
      "id": "54da76fa",
      "metadata": {
        "id": "54da76fa"
      },
      "outputs": [],
      "source": [
        "import numpy as np"
      ]
    },
    {
      "cell_type": "code",
      "execution_count": null,
      "id": "d9fb8d2d",
      "metadata": {
        "id": "d9fb8d2d"
      },
      "outputs": [],
      "source": [
        "def solve_binary_relation_equation(A: np.ndarray, B: np.ndarray) -> np.ndarray | None:\n",
        "    k, n = A.shape\n",
        "    k, m = B.shape\n",
        "    X = np.ones((m, n))\n",
        "    for k in range(m):\n",
        "        for j in range(n): #хотим проверить, есть ли такое i, что b[i][k] = 1, а a[i][j] = 0, тогда x[k][j] = 0\n",
        "            if np.any(B[:, k] & ~A[:, j]):\n",
        "                X[k][j] = 0\n",
        "    if np.array_equal(B @ X, A):\n",
        "        return X\n",
        "    else:\n",
        "        return None"
      ]
    },
    {
      "cell_type": "markdown",
      "id": "2c6d80c0",
      "metadata": {
        "id": "2c6d80c0"
      },
      "source": [
        "Пример:\n",
        "$$ K = \\{ k_1, k_2 \\}, M = \\{ m_1, m_2 \\}, N = \\{ n_1, n_2, n_3 \\} $$\n",
        "$$ A = \\{ (k_1, n_1), (k_1, n_3), (k_2, n_1) \\}, B = \\{ (k_1, m_1), (k_2, m_2) \\} $$\n",
        "Тогда единственное решение $A = X \\circ B$ такое: $$X = \\{ (m_1, n_1), (m_1, n_3), (m_2, n_1) \\} $$"
      ]
    },
    {
      "cell_type": "code",
      "execution_count": null,
      "id": "00849c36",
      "metadata": {
        "id": "00849c36"
      },
      "outputs": [],
      "source": [
        "A = np.array([[True, False, True], [True, False, False]])\n",
        "B = np.array([[True, False], [False, True]])\n",
        "X = solve_binary_relation_equation(A, B)\n",
        "assert np.array_equal(B @ X, A)"
      ]
    },
    {
      "cell_type": "markdown",
      "id": "b9eada23",
      "metadata": {
        "id": "b9eada23"
      },
      "source": [
        "Обоснуйте корректность алгоритма."
      ]
    },
    {
      "cell_type": "markdown",
      "id": "a4506bd2",
      "metadata": {
        "id": "a4506bd2"
      },
      "source": [
        "_Обоснование_: Заметим, что $xAy$ равносильно тому, что существует $z$, что $xBz$ и $zXy$. Значит, наша матрица $X$ должна удовлетворять $B @ X = A$, так как умножение булевых матриц работает так, что `A[x][y] == 1`, если и только если существует такой $z$, что `B[x][z] == 1` и `X[z][y] == 1`. То есть в целом могли бы просто написать `np.linalgsolve`)).\n",
        "Таким образом, если ${xAy} = \\texttt{False}$ и при этом $xBz$, то $zXy = 0$ обязательно. Циклом ровно это проверяем, строчка `np.any(B[:, k] & ~A[:, j])` берет столбец $k$ матрицы $B$, инвертированный $j$ столбец матрицы $A$ и смотрит, есть ли номер $i$, что на $i$ позиции в этих столбцах единички, то есть что есть `B[i][k] = 1` и `A[i][j] = 0`, и в таком случае `X[k][j] = 0`. Все эти нули необходимые, так как в случае их отсутствия появятся лишние элементы в отношении $A$. Но эти нули могли выкинуть какие-то нужные элементы в отношении $A$. Если это произошло, то подходящего $X$ не существует, так как если даже мы делаем все возможные элементы в отношении $X$, которые не создадут лишних в $A$, то какие-то элементы $A$ мы получить не можем. Строчка `np.array_equal(B @ X, A)` проверяет, что этого не произошло."
      ]
    },
    {
      "cell_type": "markdown",
      "id": "f06e7928",
      "metadata": {
        "id": "f06e7928"
      },
      "source": [
        "# Задание 3. Производящие функции, Pythonic edition (2 балла)\n",
        "\n",
        "В этом задании вам требуется написать класс производящей функции. Ниже приведен интерфейс класса. Все эти методы нужно реализовать. Еще ниже приведены тесты, которые можно и нужно запускать и смотреть.\n",
        "\n",
        "Общая концепция: в классе хранится единственное поле `func`, которое возвращает коэффициенты последовательности. Все операции над производящими функциями делаются лениво. В реализации операций не надо копировать аргументы. Реализуйте операции таким образом, чтобы они сохраняли целочисленность производящей функции, в том числе в делении, если это возможно."
      ]
    },
    {
      "cell_type": "code",
      "execution_count": null,
      "id": "80018e43",
      "metadata": {
        "id": "80018e43"
      },
      "outputs": [],
      "source": [
        "#from typing import Callable, Iterable, Self\n",
        "from typing import Callable, Iterable\n",
        "from typing_extensions import Self #верхняя строчка не срабатывала, пришлось так\n",
        "from functools import cache\n",
        "\n",
        "Number = int | float\n",
        "\n",
        "\n",
        "class GeneratingFunction:\n",
        "    __slots__ = [\"func\"]\n",
        "\n",
        "    def __init__(self, func: Callable[[int], Number]):\n",
        "        self.func = func\n",
        "\n",
        "    @staticmethod\n",
        "    def const(value: Number):\n",
        "        \"\"\"value + 0x + 0x² + ...\"\"\"\n",
        "        return GeneratingFunction(lambda x: value if x == 0 else 0)\n",
        "\n",
        "    @staticmethod\n",
        "    def finite(values: Iterable[Number]):\n",
        "        \"\"\"values[0] + values[1]·x + ... + values[n]·xⁿ\"\"\"\n",
        "        return GeneratingFunction(lambda x: values[x] if x < len(values) else 0)\n",
        "\n",
        "\n",
        "    def __add__(self, other: Number | Self):\n",
        "        if isinstance(other, Number):\n",
        "            return GeneratingFunction(lambda x: self.func(x) + other if x == 0 else self.func(x))\n",
        "        return GeneratingFunction(lambda x: self.func(x) + other.func(x))\n",
        "\n",
        "    def __radd__(self, other: Number):\n",
        "        return GeneratingFunction(lambda x: self.func(x) + other if x == 0 else self.func(x))\n",
        "\n",
        "    def __sub__(self, other: Number | Self):\n",
        "        if isinstance(other, Number):\n",
        "            return GeneratingFunction(lambda x: self.func(x) - other if x == 0 else self.func(x))\n",
        "        return GeneratingFunction(lambda x: self.func(x) - other.func(x))\n",
        "\n",
        "    def __rsub__(self, other: Number):\n",
        "        return GeneratingFunction(lambda x: -self.func(x) + other if x == 0 else -self.func(x))\n",
        "\n",
        "    def __mul__(self, other: Number | Self):\n",
        "        if isinstance(other, Number):\n",
        "            return GeneratingFunction(lambda x: self.func(x) * other)\n",
        "        return GeneratingFunction(lambda x: sum(self.func(k) * other.func(x - k) for k in range(x + 1)))\n",
        "\n",
        "    def __rmul__(self, other: Number):\n",
        "        return GeneratingFunction(lambda x: self.func(x) * other)\n",
        "\n",
        "    def __truediv__(self, other: Number | Self):\n",
        "        if isinstance(other, Number):\n",
        "            return GeneratingFunction(lambda x: self.func(x) // other if self.func(x) % other == 0 else self.func(x) / other)\n",
        "        return self * other.inverse()\n",
        "\n",
        "    def inverse(self):\n",
        "        assert self.func(0) != 0\n",
        "\n",
        "        @cache\n",
        "        def f_int(x):\n",
        "            if x == 0:\n",
        "                return 1 // self.func(0)\n",
        "            return -sum(f_int(k) * self.func(x - k) for k in range(x)) // self.func(0)\n",
        "\n",
        "        @cache\n",
        "        def f(x):\n",
        "            if x == 0:\n",
        "                return 1 / self.func(0)\n",
        "            return -sum(f(k) * self.func(x - k) for k in range(x)) / self.func(0)\n",
        "\n",
        "        if abs(self.func(0)) == 1:\n",
        "            return GeneratingFunction(f_int)\n",
        "        return GeneratingFunction(f)\n",
        "\n",
        "    def __rtruediv__(self, other: Number):\n",
        "        return self.inverse() * other\n",
        "\n",
        "    def __pow__(self, pow: int):\n",
        "        # Возведение в степень должно работать за O(log(abs(pow)))\n",
        "        if pow == 0:\n",
        "            return GeneratingFunction.const(1)\n",
        "        if pow == 1:\n",
        "            return self\n",
        "        if pow == -1:\n",
        "            return self.inverse()\n",
        "        if pow % 2 == 0:\n",
        "            half_pow = pow // 2\n",
        "            half_result = self ** half_pow\n",
        "            return half_result * half_result\n",
        "        else:\n",
        "            return self * (self ** (pow - 1))\n",
        "\n",
        "    def __neg__(self):\n",
        "        return GeneratingFunction(lambda x: self.func(x) * (-1))\n",
        "\n",
        "    def __getitem__(self, key: int) -> Number | list[Number]:\n",
        "        if isinstance(key, slice):\n",
        "            return list(map(self.func, range(*key.indices(key.stop))))\n",
        "        return self.func(key)\n",
        "\n",
        "    def __format__(self, format_spec: str) -> str:\n",
        "        \"\"\"\n",
        "        Через `format_spec` можно указать, сколько первых членов ряда нужно вывести.\n",
        "        Наример, `print(f\"{fibb:4}\")` выводит что-то типа \"1 + 1x + 2x² + 3x³ + …\".\n",
        "        \"\"\"\n",
        "        terms = [f\"{self.func(i)}x^{i}\" for i in range(int(format_spec))]\n",
        "        terms.append('…')\n",
        "        return \" + \".join(terms)\n",
        "\n",
        "    def __str__(self) -> str:\n",
        "        return f\"{self}\"\n",
        "\n",
        "    def derivative(self):\n",
        "        return GeneratingFunction(lambda x: self.func(x + 1) * (x + 1))\n",
        "\n",
        "    def __iter__(self) -> Iterable[Number]:\n",
        "        return (self.func(i) for i in range (10**20))"
      ]
    },
    {
      "cell_type": "code",
      "execution_count": null,
      "id": "ac002606",
      "metadata": {
        "colab": {
          "base_uri": "https://localhost:8080/"
        },
        "id": "ac002606",
        "outputId": "009733bc-4ce0-4a3b-f180-d33e8b7abc38"
      },
      "outputs": [
        {
          "output_type": "stream",
          "name": "stdout",
          "text": [
            "1x^0 + 1x^1 + 2x^2 + 3x^3 + 5x^4 + 8x^5 + 13x^6 + 21x^7 + 34x^8 + 55x^9 + 89x^10 + …\n"
          ]
        }
      ],
      "source": [
        "x = GeneratingFunction.finite([0, 1])\n",
        "fibb_gen = -(x ** 2 + x - 1) ** -1\n",
        "print(f\"{fibb_gen:11}\")\n",
        "assert(fibb_gen[10] == 89)"
      ]
    },
    {
      "cell_type": "code",
      "execution_count": null,
      "id": "95f0d6bd",
      "metadata": {
        "scrolled": false,
        "colab": {
          "base_uri": "https://localhost:8080/"
        },
        "id": "95f0d6bd",
        "outputId": "c12cb80a-caf9-4085-bc60-43f0d0a2a325"
      },
      "outputs": [
        {
          "output_type": "stream",
          "name": "stdout",
          "text": [
            "Requirement already satisfied: ipytest in /usr/local/lib/python3.10/dist-packages (0.14.0)\n",
            "Requirement already satisfied: ipython in /usr/local/lib/python3.10/dist-packages (from ipytest) (7.34.0)\n",
            "Requirement already satisfied: packaging in /usr/local/lib/python3.10/dist-packages (from ipytest) (24.0)\n",
            "Requirement already satisfied: pytest>=5.4 in /usr/local/lib/python3.10/dist-packages (from ipytest) (7.4.4)\n",
            "Requirement already satisfied: iniconfig in /usr/local/lib/python3.10/dist-packages (from pytest>=5.4->ipytest) (2.0.0)\n",
            "Requirement already satisfied: pluggy<2.0,>=0.12 in /usr/local/lib/python3.10/dist-packages (from pytest>=5.4->ipytest) (1.4.0)\n",
            "Requirement already satisfied: exceptiongroup>=1.0.0rc8 in /usr/local/lib/python3.10/dist-packages (from pytest>=5.4->ipytest) (1.2.0)\n",
            "Requirement already satisfied: tomli>=1.0.0 in /usr/local/lib/python3.10/dist-packages (from pytest>=5.4->ipytest) (2.0.1)\n",
            "Requirement already satisfied: setuptools>=18.5 in /usr/local/lib/python3.10/dist-packages (from ipython->ipytest) (67.7.2)\n",
            "Requirement already satisfied: jedi>=0.16 in /usr/local/lib/python3.10/dist-packages (from ipython->ipytest) (0.19.1)\n",
            "Requirement already satisfied: decorator in /usr/local/lib/python3.10/dist-packages (from ipython->ipytest) (4.4.2)\n",
            "Requirement already satisfied: pickleshare in /usr/local/lib/python3.10/dist-packages (from ipython->ipytest) (0.7.5)\n",
            "Requirement already satisfied: traitlets>=4.2 in /usr/local/lib/python3.10/dist-packages (from ipython->ipytest) (5.7.1)\n",
            "Requirement already satisfied: prompt-toolkit!=3.0.0,!=3.0.1,<3.1.0,>=2.0.0 in /usr/local/lib/python3.10/dist-packages (from ipython->ipytest) (3.0.43)\n",
            "Requirement already satisfied: pygments in /usr/local/lib/python3.10/dist-packages (from ipython->ipytest) (2.16.1)\n",
            "Requirement already satisfied: backcall in /usr/local/lib/python3.10/dist-packages (from ipython->ipytest) (0.2.0)\n",
            "Requirement already satisfied: matplotlib-inline in /usr/local/lib/python3.10/dist-packages (from ipython->ipytest) (0.1.6)\n",
            "Requirement already satisfied: pexpect>4.3 in /usr/local/lib/python3.10/dist-packages (from ipython->ipytest) (4.9.0)\n",
            "Requirement already satisfied: parso<0.9.0,>=0.8.3 in /usr/local/lib/python3.10/dist-packages (from jedi>=0.16->ipython->ipytest) (0.8.3)\n",
            "Requirement already satisfied: ptyprocess>=0.5 in /usr/local/lib/python3.10/dist-packages (from pexpect>4.3->ipython->ipytest) (0.7.0)\n",
            "Requirement already satisfied: wcwidth in /usr/local/lib/python3.10/dist-packages (from prompt-toolkit!=3.0.0,!=3.0.1,<3.1.0,>=2.0.0->ipython->ipytest) (0.2.13)\n"
          ]
        }
      ],
      "source": [
        "%pip install ipytest"
      ]
    },
    {
      "cell_type": "code",
      "execution_count": null,
      "id": "9cf1843c",
      "metadata": {
        "id": "9cf1843c"
      },
      "outputs": [],
      "source": [
        "import ipytest\n",
        "ipytest.autoconfig()"
      ]
    },
    {
      "cell_type": "code",
      "execution_count": null,
      "id": "a00a18cf",
      "metadata": {
        "colab": {
          "base_uri": "https://localhost:8080/"
        },
        "id": "a00a18cf",
        "outputId": "472df6f0-ab6c-4258-86dc-3e960ee8a560"
      },
      "outputs": [
        {
          "output_type": "stream",
          "name": "stdout",
          "text": [
            "\u001b[32m.\u001b[0m\u001b[32m.\u001b[0m\u001b[32m.\u001b[0m\u001b[32m.\u001b[0m\u001b[32m.\u001b[0m\u001b[32m.\u001b[0m\u001b[32m.\u001b[0m\u001b[32m.\u001b[0m\u001b[32m                                                                                     [100%]\u001b[0m\n",
            "\u001b[32m\u001b[32m\u001b[1m8 passed\u001b[0m\u001b[32m in 0.78s\u001b[0m\u001b[0m\n"
          ]
        }
      ],
      "source": [
        "%%ipytest\n",
        "from itertools import islice\n",
        "\n",
        "def fibb(n: int):\n",
        "    a, b = 1, 1\n",
        "    for _ in range(n):\n",
        "        a, b = b, a + b\n",
        "    return a\n",
        "\n",
        "\n",
        "def test_init():\n",
        "    assert list(islice(GeneratingFunction(lambda x: x * x), 5)) == [0, 1, 4, 9, 16]\n",
        "\n",
        "\n",
        "def test_finite():\n",
        "    assert (\n",
        "        list(islice(GeneratingFunction.finite([2, 4, 1, 5]), 10))\n",
        "        == [2, 4, 1, 5] + [0] * 6\n",
        "    )\n",
        "\n",
        "    coeffs = range(4)\n",
        "    poly = GeneratingFunction.finite(coeffs)\n",
        "    assert list(islice(poly, 5)) == [0, 1, 2, 3, 0]\n",
        "    assert list(islice(poly, 3)) == [0, 1, 2]\n",
        "\n",
        "\n",
        "def test_const():\n",
        "    assert list(islice(GeneratingFunction.const(9), 3)) == [9, 0, 0]\n",
        "\n",
        "\n",
        "def test_add():\n",
        "    x = GeneratingFunction.finite([1, 2, 3, 4])\n",
        "    y = GeneratingFunction.finite([6, 3, 1])\n",
        "    z = GeneratingFunction(lambda i: i * i)\n",
        "    assert (x + y)[:5] == [7, 5, 4, 4, 0]\n",
        "    assert (x + y)[10**9] == 0\n",
        "    assert (z + z)[10**9] == 2 * 10**18\n",
        "\n",
        "    assert (z + 7)[:3] == [7, 1, 4]\n",
        "    assert (42 + x)[:5] == [43, 2, 3, 4, 0]\n",
        "\n",
        "\n",
        "def test_sub_neg():\n",
        "    a = GeneratingFunction.finite([1, 2, 3, 4])\n",
        "    assert (-a)[:5] == [-1, -2, -3, -4, 0]\n",
        "    assert (a - a)[:100] == [0] * 100\n",
        "    assert (a - 42)[:5] == [-41, 2, 3, 4, 0]\n",
        "    assert (57 - a)[:5] == [56, -2, -3, -4, 0]\n",
        "\n",
        "    b = GeneratingFunction(lambda n: n * 9)\n",
        "    assert (a - b)[10**9] == -9 * 10**9\n",
        "\n",
        "\n",
        "def test_mul():\n",
        "    x = GeneratingFunction.finite([0, 1])\n",
        "    x2 = x * x\n",
        "    poly1 = 3 * x2 - x**3 - 4\n",
        "    poly2 = x * 2 + 5\n",
        "    assert (poly1 * poly2)[:5] == [-20, -8, 15, 1, -2]\n",
        "\n",
        "    f = GeneratingFunction(fibb)\n",
        "    assert (-f * (x**2 + x - 1))[:100] == [1] + [0] * 99\n",
        "\n",
        "\n",
        "def test_div():\n",
        "    x = GeneratingFunction.finite([0, 1])\n",
        "    f = -1 / (x**2 + x - 1)\n",
        "    assert isinstance(f[10], int)\n",
        "    assert (-1 / (x**2 + x - 1))[:100] == GeneratingFunction(fibb)[:100]\n",
        "    assert (x / GeneratingFunction(fibb))[:100] == (-(x**3) - x**2 + x)[:100]\n",
        "    assert isinstance((x / 1)[10], int)\n",
        "    assert isinstance((f / -1)[10], int)\n",
        "    assert (x / (2 * x + 2))[1] == 0.5\n",
        "\n",
        "    assert (\n",
        "        (-GeneratingFunction(fibb) ** -3)[:10]\n",
        "        == ((x**2 + x - 1) ** 3)[:10]\n",
        "        == [-1, 3, 0, -5, 0, 3, 1, 0, 0, 0]\n",
        "    )\n",
        "\n",
        "\n",
        "def test_derivative():\n",
        "    x = GeneratingFunction.finite([0, 1])\n",
        "    f = 1 / (1 - x)\n",
        "    assert f.derivative()[:10] == list(range(1, 11))\n",
        "\n",
        "    g = GeneratingFunction(fibb)\n",
        "    assert (f * g).derivative()[:10] == (f.derivative() * g + g.derivative() * f)[:10]"
      ]
    }
  ],
  "metadata": {
    "kernelspec": {
      "display_name": "Python 3 (ipykernel)",
      "language": "python",
      "name": "python3"
    },
    "language_info": {
      "codemirror_mode": {
        "name": "ipython",
        "version": 3
      },
      "file_extension": ".py",
      "mimetype": "text/x-python",
      "name": "python",
      "nbconvert_exporter": "python",
      "pygments_lexer": "ipython3",
      "version": "3.10.7"
    },
    "colab": {
      "provenance": []
    }
  },
  "nbformat": 4,
  "nbformat_minor": 5
}